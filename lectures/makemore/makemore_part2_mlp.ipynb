{
 "cells": [
  {
   "cell_type": "code",
   "execution_count": 2,
   "metadata": {},
   "outputs": [],
   "source": [
    "import torch\n",
    "import torch.nn.functional as F\n",
    "import matplotlib.pyplot as plt # for making figures\n",
    "%matplotlib inline"
   ]
  },
  {
   "cell_type": "markdown",
   "metadata": {},
   "source": [
    "### Notes\n",
    "\n",
    "What is important here is how to build a simple neural network in `torch`\n",
    "\n",
    "- focus on the linear algerbra here and how that translates into simple code\n",
    "- focus on tricks to get dimensionality correct\n"
   ]
  },
  {
   "cell_type": "code",
   "execution_count": 3,
   "metadata": {},
   "outputs": [
    {
     "data": {
      "text/plain": [
       "['emma', 'olivia', 'ava', 'isabella', 'sophia', 'charlotte', 'mia', 'amelia']"
      ]
     },
     "execution_count": 3,
     "metadata": {},
     "output_type": "execute_result"
    }
   ],
   "source": [
    "# read in all the words\n",
    "words = open(\"names.txt\", \"r\").read().splitlines()\n",
    "words[:8]"
   ]
  },
  {
   "cell_type": "code",
   "execution_count": 4,
   "metadata": {},
   "outputs": [
    {
     "data": {
      "text/plain": [
       "32033"
      ]
     },
     "execution_count": 4,
     "metadata": {},
     "output_type": "execute_result"
    }
   ],
   "source": [
    "len(words)"
   ]
  },
  {
   "cell_type": "code",
   "execution_count": 9,
   "metadata": {},
   "outputs": [
    {
     "name": "stdout",
     "output_type": "stream",
     "text": [
      "{1: 'a', 2: 'b', 3: 'c', 4: 'd', 5: 'e', 6: 'f', 7: 'g', 8: 'h', 9: 'i', 10: 'j', 11: 'k', 12: 'l', 13: 'm', 14: 'n', 15: 'o', 16: 'p', 17: 'q', 18: 'r', 19: 's', 20: 't', 21: 'u', 22: 'v', 23: 'w', 24: 'x', 25: 'y', 26: 'z', 0: '.'}\n"
     ]
    }
   ],
   "source": [
    "# build the vocabulary of characters and mappings to/from integers\n",
    "chars = sorted(list(set(\"\".join(words))))\n",
    "stoi = {s: i + 1 for i, s in enumerate(chars)}\n",
    "stoi[\".\"] = 0\n",
    "itos = {i: s for s, i in stoi.items()}\n",
    "print(itos)"
   ]
  },
  {
   "cell_type": "code",
   "execution_count": 23,
   "metadata": {},
   "outputs": [
    {
     "name": "stdout",
     "output_type": "stream",
     "text": [
      "96099\n"
     ]
    }
   ],
   "source": [
    "length = 0\n",
    "for w in words:\n",
    "    length += len(w)\n",
    "print(length)"
   ]
  },
  {
   "cell_type": "code",
   "execution_count": 27,
   "metadata": {},
   "outputs": [],
   "source": [
    "# build the dataset\n",
    "\n",
    "block_size = (\n",
    "    3  # context length: how many characters do we take to predict the next one?\n",
    ")\n",
    "X, Y = [], []\n",
    "for w in words:\n",
    "    # print(w)\n",
    "    context = [0] * block_size  # \"padded context of zero tokens\"\n",
    "    for ch in w + \".\":\n",
    "        ix = stoi[ch]\n",
    "        X.append(context)  # current running context\n",
    "        Y.append(ix)  # target next character\n",
    "        # print(\"\".join(itos[i] for i in context), \"--->\", itos[ix])\n",
    "        context = context[1:] + [ix]  # crop and append; \"rolling context\"\n",
    "\n",
    "X = torch.tensor(X)\n",
    "Y = torch.tensor(Y)"
   ]
  },
  {
   "cell_type": "code",
   "execution_count": 28,
   "metadata": {},
   "outputs": [
    {
     "data": {
      "text/plain": [
       "(torch.Size([228146, 3]), torch.int64, torch.Size([228146]), torch.int64)"
      ]
     },
     "execution_count": 28,
     "metadata": {},
     "output_type": "execute_result"
    }
   ],
   "source": [
    "X.shape, X.dtype, Y.shape, Y.dtype"
   ]
  },
  {
   "cell_type": "code",
   "execution_count": 31,
   "metadata": {},
   "outputs": [
    {
     "data": {
      "text/plain": [
       "tensor([-0.7078,  0.3681])"
      ]
     },
     "execution_count": 31,
     "metadata": {},
     "output_type": "execute_result"
    }
   ],
   "source": [
    "C = torch.randn((27, 2))  # 27 characters, 2 dimensional embedding\n",
    "# we are embedding characters into 2 dimensions\n",
    "C[5]"
   ]
  },
  {
   "cell_type": "code",
   "execution_count": 34,
   "metadata": {},
   "outputs": [
    {
     "data": {
      "text/plain": [
       "tensor([-0.7078,  0.3681])"
      ]
     },
     "execution_count": 34,
     "metadata": {},
     "output_type": "execute_result"
    }
   ],
   "source": [
    "F.one_hot(\n",
    "    torch.tensor(5), num_classes=27\n",
    ").float() @ C  # same as C[5]; one-hot encoding masks irrelevant dimensions"
   ]
  },
  {
   "cell_type": "code",
   "execution_count": 39,
   "metadata": {},
   "outputs": [
    {
     "data": {
      "text/plain": [
       "torch.Size([27, 2])"
      ]
     },
     "execution_count": 39,
     "metadata": {},
     "output_type": "execute_result"
    }
   ],
   "source": [
    "C.shape"
   ]
  },
  {
   "cell_type": "code",
   "execution_count": 38,
   "metadata": {},
   "outputs": [
    {
     "data": {
      "text/plain": [
       "torch.Size([228146, 3, 2])"
      ]
     },
     "execution_count": 38,
     "metadata": {},
     "output_type": "execute_result"
    }
   ],
   "source": [
    "emb = C[X]  # how we simulateously embedd all of X in C\n",
    "emb.shape"
   ]
  },
  {
   "cell_type": "code",
   "execution_count": 40,
   "metadata": {},
   "outputs": [],
   "source": [
    "W1 = torch.randn((6, 100))  # 3 from context, 2 from embedding\n",
    "b1 = torch.randn((100,))"
   ]
  },
  {
   "cell_type": "code",
   "execution_count": 41,
   "metadata": {},
   "outputs": [
    {
     "ename": "RuntimeError",
     "evalue": "mat1 and mat2 shapes cannot be multiplied (684438x2 and 6x100)",
     "output_type": "error",
     "traceback": [
      "\u001b[0;31m---------------------------------------------------------------------------\u001b[0m",
      "\u001b[0;31mRuntimeError\u001b[0m                              Traceback (most recent call last)",
      "Cell \u001b[0;32mIn[41], line 1\u001b[0m\n\u001b[0;32m----> 1\u001b[0m \u001b[43memb\u001b[49m\u001b[43m \u001b[49m\u001b[38;5;241;43m@\u001b[39;49m\u001b[43m \u001b[49m\u001b[43mW1\u001b[49m \u001b[38;5;241m+\u001b[39m b\n",
      "\u001b[0;31mRuntimeError\u001b[0m: mat1 and mat2 shapes cannot be multiplied (684438x2 and 6x100)"
     ]
    }
   ],
   "source": [
    "emb @ W1 + b"
   ]
  },
  {
   "cell_type": "markdown",
   "metadata": {},
   "source": [
    "In order to get correct dimensions to `@` we use `.concat` to squash the dimenshions in a naive way\n",
    "\n",
    "**Note: this will not generalise**\n"
   ]
  },
  {
   "cell_type": "code",
   "execution_count": 46,
   "metadata": {},
   "outputs": [
    {
     "data": {
      "text/plain": [
       "torch.Size([228146, 6])"
      ]
     },
     "execution_count": 46,
     "metadata": {},
     "output_type": "execute_result"
    }
   ],
   "source": [
    "torch.cat([emb[:, 0, :], emb[:, 1, :], emb[:, 2, :]], 1).shape  # input must be list"
   ]
  },
  {
   "cell_type": "markdown",
   "metadata": {},
   "source": [
    "To generalise for any block size we rather use `torch.unbind()` to get the list above\n"
   ]
  },
  {
   "cell_type": "code",
   "execution_count": 57,
   "metadata": {},
   "outputs": [
    {
     "name": "stdout",
     "output_type": "stream",
     "text": [
      "torch.Size([228146, 2])\n",
      "torch.Size([228146, 2])\n",
      "torch.Size([228146, 2])\n"
     ]
    }
   ],
   "source": [
    "for t in torch.unbind(emb, 1):\n",
    "    print(t.shape)"
   ]
  },
  {
   "cell_type": "code",
   "execution_count": 59,
   "metadata": {},
   "outputs": [
    {
     "data": {
      "text/plain": [
       "torch.Size([228146, 6])"
      ]
     },
     "execution_count": 59,
     "metadata": {},
     "output_type": "execute_result"
    }
   ],
   "source": [
    "torch.cat(torch.unbind(emb, 1), 1).shape"
   ]
  },
  {
   "cell_type": "markdown",
   "metadata": {},
   "source": [
    "A more efficient way is to use `.view()` since this manipulates `.storage()`\n"
   ]
  },
  {
   "cell_type": "code",
   "execution_count": 61,
   "metadata": {},
   "outputs": [
    {
     "data": {
      "text/plain": [
       "torch.Size([228146, 6])"
      ]
     },
     "execution_count": 61,
     "metadata": {},
     "output_type": "execute_result"
    }
   ],
   "source": [
    "emb.view(-1, 6).shape"
   ]
  },
  {
   "cell_type": "code",
   "execution_count": 63,
   "metadata": {},
   "outputs": [
    {
     "data": {
      "text/plain": [
       "tensor([[True, True, True, True, True, True],\n",
       "        [True, True, True, True, True, True],\n",
       "        [True, True, True, True, True, True],\n",
       "        ...,\n",
       "        [True, True, True, True, True, True],\n",
       "        [True, True, True, True, True, True],\n",
       "        [True, True, True, True, True, True]])"
      ]
     },
     "execution_count": 63,
     "metadata": {},
     "output_type": "execute_result"
    }
   ],
   "source": [
    "emb.view(-1, 6) == torch.cat(torch.unbind(emb, 1), 1)"
   ]
  },
  {
   "cell_type": "code",
   "execution_count": 68,
   "metadata": {},
   "outputs": [],
   "source": [
    "h = emb.view(-1, 6) @ W1 + b1"
   ]
  },
  {
   "cell_type": "code",
   "execution_count": 72,
   "metadata": {},
   "outputs": [
    {
     "data": {
      "text/plain": [
       "torch.Size([228146, 100])"
      ]
     },
     "execution_count": 72,
     "metadata": {},
     "output_type": "execute_result"
    }
   ],
   "source": [
    "h.shape"
   ]
  },
  {
   "cell_type": "code",
   "execution_count": 69,
   "metadata": {},
   "outputs": [],
   "source": [
    "W2 = torch.randn((100, 27))\n",
    "b2 = torch.randn((27,))"
   ]
  },
  {
   "cell_type": "code",
   "execution_count": 70,
   "metadata": {},
   "outputs": [],
   "source": [
    "logits = h @ W2 + b2"
   ]
  },
  {
   "cell_type": "code",
   "execution_count": 71,
   "metadata": {},
   "outputs": [
    {
     "data": {
      "text/plain": [
       "torch.Size([228146, 27])"
      ]
     },
     "execution_count": 71,
     "metadata": {},
     "output_type": "execute_result"
    }
   ],
   "source": [
    "counts = logits.exp()\n",
    "prob = counts / counts.sum(-1, keepdim=True)\n",
    "prob.shape"
   ]
  },
  {
   "cell_type": "code",
   "execution_count": 76,
   "metadata": {},
   "outputs": [
    {
     "data": {
      "text/plain": [
       "tensor(1.)"
      ]
     },
     "execution_count": 76,
     "metadata": {},
     "output_type": "execute_result"
    }
   ],
   "source": [
    "# Every row sums to 1 --> normalised\n",
    "prob[22000].sum()"
   ]
  },
  {
   "cell_type": "code",
   "execution_count": 78,
   "metadata": {},
   "outputs": [
    {
     "data": {
      "text/plain": [
       "tensor([1.0000e+00, 1.4708e-28, 2.0247e-25,  ..., 1.1692e-11, 8.9818e-06,\n",
       "        5.6368e-25])"
      ]
     },
     "execution_count": 78,
     "metadata": {},
     "output_type": "execute_result"
    }
   ],
   "source": [
    "# prob correct value\n",
    "prob[torch.arange(len(prob)), Y]"
   ]
  },
  {
   "cell_type": "code",
   "execution_count": 80,
   "metadata": {},
   "outputs": [
    {
     "data": {
      "text/plain": [
       "tensor(-inf)"
      ]
     },
     "execution_count": 80,
     "metadata": {},
     "output_type": "execute_result"
    }
   ],
   "source": [
    "loss = prob[torch.arange(len(prob)), Y].log().mean()\n",
    "loss"
   ]
  },
  {
   "cell_type": "code",
   "execution_count": 107,
   "metadata": {},
   "outputs": [
    {
     "name": "stdout",
     "output_type": "stream",
     "text": [
      "torch.Size([182580, 3]) torch.Size([182580])\n",
      "torch.Size([22767, 3]) torch.Size([22767])\n",
      "torch.Size([22799, 3]) torch.Size([22799])\n"
     ]
    }
   ],
   "source": [
    "# build the dataset\n",
    "block_size = (\n",
    "    3  # context length: how many characters do we take to predict the next one?\n",
    ")\n",
    "\n",
    "\n",
    "def build_dataset(words):\n",
    "    X, Y = [], []\n",
    "    for w in words:\n",
    "        # print(w)\n",
    "        context = [0] * block_size\n",
    "        for ch in w + \".\":\n",
    "            ix = stoi[ch]\n",
    "            X.append(context)\n",
    "            Y.append(ix)\n",
    "            # print(''.join(itos[i] for i in context), '--->', itos[ix])\n",
    "            context = context[1:] + [ix]  # crop and append\n",
    "\n",
    "    X = torch.tensor(X)\n",
    "    Y = torch.tensor(Y)\n",
    "    print(X.shape, Y.shape)\n",
    "    return X, Y\n",
    "\n",
    "\n",
    "import random\n",
    "\n",
    "random.seed(42)\n",
    "random.shuffle(words)\n",
    "n1 = int(0.8 * len(words))\n",
    "n2 = int(0.9 * len(words))\n",
    "\n",
    "Xtr, Ytr = build_dataset(words[:n1])\n",
    "Xdev, Ydev = build_dataset(words[n1:n2])  # also known as validation set\n",
    "Xte, Yte = build_dataset(words[n2:])"
   ]
  },
  {
   "cell_type": "code",
   "execution_count": 108,
   "metadata": {},
   "outputs": [],
   "source": [
    "C = torch.randn((27, 2))"
   ]
  },
  {
   "cell_type": "code",
   "execution_count": 109,
   "metadata": {},
   "outputs": [
    {
     "data": {
      "text/plain": [
       "torch.Size([228146, 3, 2])"
      ]
     },
     "execution_count": 109,
     "metadata": {},
     "output_type": "execute_result"
    }
   ],
   "source": [
    "emb = C[X]\n",
    "emb.shape"
   ]
  },
  {
   "cell_type": "code",
   "execution_count": 110,
   "metadata": {},
   "outputs": [],
   "source": [
    "W1 = torch.randn((6, 100))\n",
    "b1 = torch.randn(100)"
   ]
  },
  {
   "cell_type": "code",
   "execution_count": 111,
   "metadata": {},
   "outputs": [],
   "source": [
    "h = torch.tanh(emb.view(-1, 6) @ W1 + b1)"
   ]
  },
  {
   "cell_type": "code",
   "execution_count": 112,
   "metadata": {},
   "outputs": [
    {
     "data": {
      "text/plain": [
       "tensor([[-0.9535,  0.4767, -0.8762,  ..., -0.4202,  0.2386, -0.8809],\n",
       "        [-0.8940,  0.9242, -0.8776,  ..., -0.9059,  0.7485, -0.3036],\n",
       "        [-0.9824,  0.9851, -0.5815,  ..., -0.9986, -0.2883,  0.7029],\n",
       "        ...,\n",
       "        [-0.3173, -0.9937, -0.1870,  ...,  0.2164,  0.1346, -0.9995],\n",
       "        [ 0.9198, -0.9124, -0.4138,  ..., -0.3515,  0.7876, -0.8827],\n",
       "        [ 0.9353, -0.7939,  0.0827,  ...,  0.8678,  0.9876, -0.9998]])"
      ]
     },
     "execution_count": 112,
     "metadata": {},
     "output_type": "execute_result"
    }
   ],
   "source": [
    "h"
   ]
  },
  {
   "cell_type": "code",
   "execution_count": 113,
   "metadata": {},
   "outputs": [
    {
     "data": {
      "text/plain": [
       "torch.Size([228146, 100])"
      ]
     },
     "execution_count": 113,
     "metadata": {},
     "output_type": "execute_result"
    }
   ],
   "source": [
    "h.shape"
   ]
  },
  {
   "cell_type": "code",
   "execution_count": 114,
   "metadata": {},
   "outputs": [],
   "source": [
    "W2 = torch.randn((100, 27))\n",
    "b2 = torch.randn(27)"
   ]
  },
  {
   "cell_type": "code",
   "execution_count": 115,
   "metadata": {},
   "outputs": [],
   "source": [
    "logits = h @ W2 + b2"
   ]
  },
  {
   "cell_type": "code",
   "execution_count": 116,
   "metadata": {},
   "outputs": [
    {
     "data": {
      "text/plain": [
       "torch.Size([228146, 27])"
      ]
     },
     "execution_count": 116,
     "metadata": {},
     "output_type": "execute_result"
    }
   ],
   "source": [
    "logits.shape"
   ]
  },
  {
   "cell_type": "code",
   "execution_count": 117,
   "metadata": {},
   "outputs": [],
   "source": [
    "counts = logits.exp()"
   ]
  },
  {
   "cell_type": "code",
   "execution_count": 118,
   "metadata": {},
   "outputs": [],
   "source": [
    "prob = counts / counts.sum(1, keepdims=True)"
   ]
  },
  {
   "cell_type": "code",
   "execution_count": 119,
   "metadata": {},
   "outputs": [
    {
     "data": {
      "text/plain": [
       "torch.Size([228146, 27])"
      ]
     },
     "execution_count": 119,
     "metadata": {},
     "output_type": "execute_result"
    }
   ],
   "source": [
    "prob.shape"
   ]
  },
  {
   "cell_type": "code",
   "execution_count": 120,
   "metadata": {},
   "outputs": [
    {
     "ename": "IndexError",
     "evalue": "shape mismatch: indexing tensors could not be broadcast together with shapes [32], [228146]",
     "output_type": "error",
     "traceback": [
      "\u001b[0;31m---------------------------------------------------------------------------\u001b[0m",
      "\u001b[0;31mIndexError\u001b[0m                                Traceback (most recent call last)",
      "Cell \u001b[0;32mIn[120], line 1\u001b[0m\n\u001b[0;32m----> 1\u001b[0m loss \u001b[38;5;241m=\u001b[39m \u001b[38;5;241m-\u001b[39m\u001b[43mprob\u001b[49m\u001b[43m[\u001b[49m\u001b[43mtorch\u001b[49m\u001b[38;5;241;43m.\u001b[39;49m\u001b[43marange\u001b[49m\u001b[43m(\u001b[49m\u001b[38;5;241;43m32\u001b[39;49m\u001b[43m)\u001b[49m\u001b[43m,\u001b[49m\u001b[43m \u001b[49m\u001b[43mY\u001b[49m\u001b[43m]\u001b[49m\u001b[38;5;241m.\u001b[39mlog()\u001b[38;5;241m.\u001b[39mmean()\n\u001b[1;32m      2\u001b[0m loss\n",
      "\u001b[0;31mIndexError\u001b[0m: shape mismatch: indexing tensors could not be broadcast together with shapes [32], [228146]"
     ]
    }
   ],
   "source": [
    "loss = -prob[torch.arange(32), Y].log().mean()\n",
    "loss"
   ]
  },
  {
   "cell_type": "code",
   "execution_count": null,
   "metadata": {},
   "outputs": [],
   "source": [
    "# ------------ now made respectable :) ---------------"
   ]
  },
  {
   "cell_type": "code",
   "execution_count": 121,
   "metadata": {},
   "outputs": [
    {
     "data": {
      "text/plain": [
       "(torch.Size([182580, 3]), torch.Size([182580]))"
      ]
     },
     "execution_count": 121,
     "metadata": {},
     "output_type": "execute_result"
    }
   ],
   "source": [
    "Xtr.shape, Ytr.shape  # dataset"
   ]
  },
  {
   "cell_type": "code",
   "execution_count": 122,
   "metadata": {},
   "outputs": [
    {
     "data": {
      "text/plain": [
       "tensor([0.0000e+00, 1.4013e-45, 3.7835e-44, 1.0000e+00])"
      ]
     },
     "execution_count": 122,
     "metadata": {},
     "output_type": "execute_result"
    }
   ],
   "source": [
    "# following captured in F.cross_entropy function\n",
    "offset = (\n",
    "    100  # because of normalisation, can add any offset to logits and get same result\n",
    ")\n",
    "logits = torch.tensor([-100, -3, 0, 100]) - offset\n",
    "counts = logits.exp()\n",
    "probs = counts / counts.sum()\n",
    "probs"
   ]
  },
  {
   "cell_type": "markdown",
   "metadata": {},
   "source": [
    "### Training loop\n"
   ]
  },
  {
   "cell_type": "code",
   "execution_count": 123,
   "metadata": {},
   "outputs": [],
   "source": [
    "g = torch.Generator().manual_seed(2147483647)  # for reproducibility\n",
    "C = torch.randn((27, 10), generator=g)\n",
    "W1 = torch.randn((30, 200), generator=g)\n",
    "b1 = torch.randn(200, generator=g)\n",
    "W2 = torch.randn((200, 27), generator=g)\n",
    "b2 = torch.randn(27, generator=g)\n",
    "parameters = [\n",
    "    C,\n",
    "    W1,\n",
    "    b1,\n",
    "    W2,\n",
    "    b2,\n",
    "]  # params in single list --> easier to count & pass to optimiser"
   ]
  },
  {
   "cell_type": "code",
   "execution_count": 124,
   "metadata": {},
   "outputs": [
    {
     "data": {
      "text/plain": [
       "11897"
      ]
     },
     "execution_count": 124,
     "metadata": {},
     "output_type": "execute_result"
    }
   ],
   "source": [
    "sum(p.nelement() for p in parameters)  # number of parameters in total"
   ]
  },
  {
   "cell_type": "code",
   "execution_count": 125,
   "metadata": {},
   "outputs": [],
   "source": [
    "# NB\n",
    "for p in parameters:\n",
    "    p.requires_grad = True"
   ]
  },
  {
   "cell_type": "code",
   "execution_count": 126,
   "metadata": {},
   "outputs": [],
   "source": [
    "lre = torch.linspace(-3, 0, 1000)\n",
    "lrs = 10**lre"
   ]
  },
  {
   "cell_type": "code",
   "execution_count": 127,
   "metadata": {},
   "outputs": [],
   "source": [
    "lri = []\n",
    "lossi = []\n",
    "stepi = []"
   ]
  },
  {
   "cell_type": "markdown",
   "metadata": {},
   "source": [
    "Inefficient method here can be numerically unstable\n"
   ]
  },
  {
   "cell_type": "code",
   "execution_count": 128,
   "metadata": {},
   "outputs": [
    {
     "name": "stdout",
     "output_type": "stream",
     "text": [
      "i: 0; loss: 24.630281448364258\n",
      "i: 1000; loss: 4.220407962799072\n",
      "i: 2000; loss: 3.5602591037750244\n",
      "i: 3000; loss: 2.991800308227539\n",
      "i: 4000; loss: 2.398388385772705\n",
      "i: 5000; loss: 2.659816265106201\n",
      "i: 6000; loss: 2.5006415843963623\n",
      "i: 7000; loss: 2.561244010925293\n",
      "i: 8000; loss: 2.839475154876709\n",
      "i: 9000; loss: 2.6340792179107666\n",
      "i: 10000; loss: 2.752163887023926\n",
      "i: 11000; loss: 2.169093132019043\n",
      "i: 12000; loss: 2.1071629524230957\n",
      "i: 13000; loss: 2.8300271034240723\n",
      "i: 14000; loss: 2.4181294441223145\n",
      "i: 15000; loss: 3.0429415702819824\n",
      "i: 16000; loss: 2.767133951187134\n",
      "i: 17000; loss: 2.6495776176452637\n",
      "i: 18000; loss: 2.08382511138916\n",
      "i: 19000; loss: 2.034485101699829\n",
      "i: 20000; loss: 2.647167921066284\n",
      "i: 21000; loss: 2.378915786743164\n",
      "i: 22000; loss: 2.301481246948242\n",
      "i: 23000; loss: 2.1520423889160156\n",
      "i: 24000; loss: 2.603400468826294\n",
      "i: 25000; loss: 2.459768295288086\n",
      "i: 26000; loss: 2.230572462081909\n",
      "i: 27000; loss: 2.4466640949249268\n",
      "i: 28000; loss: 2.5000979900360107\n",
      "i: 29000; loss: 2.3033745288848877\n",
      "i: 30000; loss: 3.332584857940674\n",
      "i: 31000; loss: 2.1770007610321045\n",
      "i: 32000; loss: 2.2240285873413086\n",
      "i: 33000; loss: 2.4847941398620605\n",
      "i: 34000; loss: 2.440936326980591\n",
      "i: 35000; loss: 2.4777889251708984\n",
      "i: 36000; loss: 2.431962490081787\n",
      "i: 37000; loss: 2.22821307182312\n",
      "i: 38000; loss: 2.338944673538208\n",
      "i: 39000; loss: 1.8758056163787842\n",
      "i: 40000; loss: 2.5893616676330566\n",
      "i: 41000; loss: 2.5620217323303223\n",
      "i: 42000; loss: 2.156158685684204\n",
      "i: 43000; loss: 2.3215460777282715\n",
      "i: 44000; loss: 2.4946017265319824\n",
      "i: 45000; loss: 2.828927755355835\n",
      "i: 46000; loss: 2.1476757526397705\n",
      "i: 47000; loss: 2.242182970046997\n",
      "i: 48000; loss: 2.564085006713867\n",
      "i: 49000; loss: 2.458873748779297\n",
      "i: 50000; loss: 2.749447822570801\n",
      "i: 51000; loss: 2.2955896854400635\n",
      "i: 52000; loss: 2.200155735015869\n",
      "i: 53000; loss: 1.968869686126709\n",
      "i: 54000; loss: 2.7091784477233887\n",
      "i: 55000; loss: 2.1364519596099854\n",
      "i: 56000; loss: 2.538088083267212\n",
      "i: 57000; loss: 2.657909870147705\n",
      "i: 58000; loss: 1.8981335163116455\n",
      "i: 59000; loss: 2.6706509590148926\n",
      "i: 60000; loss: 1.9619117975234985\n",
      "i: 61000; loss: 2.4777579307556152\n",
      "i: 62000; loss: 2.222346067428589\n",
      "i: 63000; loss: 2.0708868503570557\n",
      "i: 64000; loss: 2.397512912750244\n",
      "i: 65000; loss: 2.1200993061065674\n",
      "i: 66000; loss: 2.2773852348327637\n",
      "i: 67000; loss: 1.9863197803497314\n",
      "i: 68000; loss: 2.375265598297119\n",
      "i: 69000; loss: 2.000894069671631\n",
      "i: 70000; loss: 2.008449077606201\n",
      "i: 71000; loss: 2.3669183254241943\n",
      "i: 72000; loss: 2.1325974464416504\n",
      "i: 73000; loss: 1.8860594034194946\n",
      "i: 74000; loss: 2.5900697708129883\n",
      "i: 75000; loss: 2.4002685546875\n",
      "i: 76000; loss: 2.6022558212280273\n",
      "i: 77000; loss: 2.5220067501068115\n",
      "i: 78000; loss: 2.8750123977661133\n",
      "i: 79000; loss: 2.3488564491271973\n",
      "i: 80000; loss: 2.411508798599243\n",
      "i: 81000; loss: 1.909902811050415\n",
      "i: 82000; loss: 2.2121236324310303\n",
      "i: 83000; loss: 2.3153021335601807\n",
      "i: 84000; loss: 1.875143051147461\n",
      "i: 85000; loss: 2.422166347503662\n",
      "i: 86000; loss: 2.144620895385742\n",
      "i: 87000; loss: 2.2741591930389404\n",
      "i: 88000; loss: 2.344801187515259\n",
      "i: 89000; loss: 2.6316287517547607\n",
      "i: 90000; loss: 1.8980690240859985\n",
      "i: 91000; loss: 2.4588072299957275\n",
      "i: 92000; loss: 2.253476619720459\n",
      "i: 93000; loss: 2.844433307647705\n",
      "i: 94000; loss: 1.9140872955322266\n",
      "i: 95000; loss: 2.30169677734375\n",
      "i: 96000; loss: 2.0932416915893555\n",
      "i: 97000; loss: 2.707531452178955\n",
      "i: 98000; loss: 2.3960189819335938\n",
      "i: 99000; loss: 2.4873945713043213\n",
      "i: 100000; loss: 2.530033826828003\n",
      "i: 101000; loss: 2.5360372066497803\n",
      "i: 102000; loss: 2.200043201446533\n",
      "i: 103000; loss: 2.349782943725586\n",
      "i: 104000; loss: 2.134711503982544\n",
      "i: 105000; loss: 2.253206729888916\n",
      "i: 106000; loss: 2.208524465560913\n",
      "i: 107000; loss: 2.133915901184082\n",
      "i: 108000; loss: 1.9890950918197632\n",
      "i: 109000; loss: 1.9622087478637695\n",
      "i: 110000; loss: 2.1116795539855957\n",
      "i: 111000; loss: 2.2579429149627686\n",
      "i: 112000; loss: 2.0032875537872314\n",
      "i: 113000; loss: 2.4807915687561035\n",
      "i: 114000; loss: 2.258260726928711\n",
      "i: 115000; loss: 1.8351560831069946\n",
      "i: 116000; loss: 2.6413116455078125\n",
      "i: 117000; loss: 2.3048267364501953\n",
      "i: 118000; loss: 1.853973388671875\n",
      "i: 119000; loss: 2.645498514175415\n",
      "i: 120000; loss: 2.1613821983337402\n",
      "i: 121000; loss: 2.2247438430786133\n",
      "i: 122000; loss: 1.919893741607666\n",
      "i: 123000; loss: 2.1678221225738525\n",
      "i: 124000; loss: 2.190444231033325\n",
      "i: 125000; loss: 2.4581289291381836\n",
      "i: 126000; loss: 1.9817391633987427\n",
      "i: 127000; loss: 2.0128672122955322\n",
      "i: 128000; loss: 2.1133484840393066\n",
      "i: 129000; loss: 2.149662733078003\n",
      "i: 130000; loss: 2.3759453296661377\n",
      "i: 131000; loss: 2.078922748565674\n",
      "i: 132000; loss: 2.0148026943206787\n",
      "i: 133000; loss: 1.9708032608032227\n",
      "i: 134000; loss: 2.29616641998291\n",
      "i: 135000; loss: 2.357844829559326\n",
      "i: 136000; loss: 1.8294121026992798\n",
      "i: 137000; loss: 2.0285325050354004\n",
      "i: 138000; loss: 2.104945182800293\n",
      "i: 139000; loss: 2.25046443939209\n",
      "i: 140000; loss: 2.3557910919189453\n",
      "i: 141000; loss: 2.307758092880249\n",
      "i: 142000; loss: 2.444216251373291\n",
      "i: 143000; loss: 2.319596290588379\n",
      "i: 144000; loss: 2.400667905807495\n",
      "i: 145000; loss: 2.5464940071105957\n",
      "i: 146000; loss: 1.9376847743988037\n",
      "i: 147000; loss: 2.165196180343628\n",
      "i: 148000; loss: 2.2596166133880615\n",
      "i: 149000; loss: 1.9637634754180908\n",
      "i: 150000; loss: 2.46246337890625\n",
      "i: 151000; loss: 2.3799071311950684\n",
      "i: 152000; loss: 2.0019609928131104\n",
      "i: 153000; loss: 2.0974345207214355\n",
      "i: 154000; loss: 2.3626933097839355\n",
      "i: 155000; loss: 1.9602413177490234\n",
      "i: 156000; loss: 1.6241999864578247\n",
      "i: 157000; loss: 2.1270604133605957\n",
      "i: 158000; loss: 2.145796537399292\n",
      "i: 159000; loss: 1.8492029905319214\n",
      "i: 160000; loss: 1.9536696672439575\n",
      "i: 161000; loss: 1.963194489479065\n",
      "i: 162000; loss: 1.7582855224609375\n",
      "i: 163000; loss: 2.101757526397705\n",
      "i: 164000; loss: 2.115480899810791\n",
      "i: 165000; loss: 2.2097060680389404\n",
      "i: 166000; loss: 2.029390811920166\n",
      "i: 167000; loss: 1.7781332731246948\n",
      "i: 168000; loss: 2.125788688659668\n",
      "i: 169000; loss: 1.9977360963821411\n",
      "i: 170000; loss: 2.098998785018921\n",
      "i: 171000; loss: 2.4058170318603516\n",
      "i: 172000; loss: 2.242550849914551\n",
      "i: 173000; loss: 2.164738893508911\n",
      "i: 174000; loss: 2.3182389736175537\n",
      "i: 175000; loss: 1.7981220483779907\n",
      "i: 176000; loss: 1.7251099348068237\n",
      "i: 177000; loss: 2.4130911827087402\n",
      "i: 178000; loss: 2.030121326446533\n",
      "i: 179000; loss: 2.538343906402588\n",
      "i: 180000; loss: 1.983551263809204\n",
      "i: 181000; loss: 2.2057735919952393\n",
      "i: 182000; loss: 2.388798952102661\n",
      "i: 183000; loss: 2.455700159072876\n",
      "i: 184000; loss: 2.0780885219573975\n",
      "i: 185000; loss: 1.8731697797775269\n",
      "i: 186000; loss: 2.4669880867004395\n",
      "i: 187000; loss: 2.520052194595337\n",
      "i: 188000; loss: 2.2588300704956055\n",
      "i: 189000; loss: 1.548693060874939\n",
      "i: 190000; loss: 2.2939507961273193\n",
      "i: 191000; loss: 1.666516661643982\n",
      "i: 192000; loss: 2.3776817321777344\n",
      "i: 193000; loss: 1.932758092880249\n",
      "i: 194000; loss: 2.1065175533294678\n",
      "i: 195000; loss: 2.0525612831115723\n",
      "i: 196000; loss: 2.0142314434051514\n",
      "i: 197000; loss: 1.7620936632156372\n",
      "i: 198000; loss: 2.118155002593994\n",
      "i: 199000; loss: 2.368605375289917\n"
     ]
    }
   ],
   "source": [
    "for i in range(200000):\n",
    "    # minibatch construct\n",
    "    ix = torch.randint(0, Xtr.shape[0], (32,))  # 32 random numbers between zero and 5\n",
    "\n",
    "    # forward pass\n",
    "    emb = C[Xtr[ix]]  # (32, 3, 10) # index into Xtr using ix minibatch subset\n",
    "    # (we generally have more steps with minibatch)\n",
    "    h = torch.tanh(emb.view(-1, 30) @ W1 + b1)  # (32, 200)\n",
    "    logits = h @ W2 + b2  # (32, 27)\n",
    "\n",
    "    # following captured in F.cross_entropy (Just classfication ???) --> efficient!!!\n",
    "    # counts = logits.exp()\n",
    "    # prob = counts / counts.sum(1, keepdims=True)\n",
    "    # loss = -prob[torch.arange(32), Ytr[ix]].log().mean()\n",
    "\n",
    "    loss = F.cross_entropy(logits, Ytr[ix])\n",
    "    if i % 1000 == 0:\n",
    "        print(f\"i: {i}; loss: {loss.item()}\")\n",
    "\n",
    "    # backward pass\n",
    "    for p in parameters:\n",
    "        p.grad = None  # NB must zero the gradients before backward pass (else they accumulate)\n",
    "    loss.backward()\n",
    "\n",
    "    # update\n",
    "    # lr = lrs[i]\n",
    "    lr = 0.1 if i < 100000 else 0.01  # learning rate decay; lr is very important\n",
    "    for p in parameters:\n",
    "        p.data += -lr * p.grad\n",
    "\n",
    "    # track stats\n",
    "    # lri.append(lre[i])\n",
    "    stepi.append(i)\n",
    "    lossi.append(loss.log10().item())"
   ]
  },
  {
   "cell_type": "markdown",
   "metadata": {},
   "source": [
    "### Minibatches create noise\n"
   ]
  },
  {
   "cell_type": "code",
   "execution_count": 129,
   "metadata": {},
   "outputs": [
    {
     "data": {
      "text/plain": [
       "[<matplotlib.lines.Line2D at 0xffff4569bf70>]"
      ]
     },
     "execution_count": 129,
     "metadata": {},
     "output_type": "execute_result"
    },
    {
     "data": {
      "image/png": "[encoded data removed]",
      "text/plain": [
       "<Figure size 640x480 with 1 Axes>"
      ]
     },
     "metadata": {},
     "output_type": "display_data"
    }
   ],
   "source": [
    "plt.plot(stepi, lossi)"
   ]
  },
  {
   "cell_type": "code",
   "execution_count": 797,
   "metadata": {},
   "outputs": [
    {
     "data": {
      "text/plain": [
       "tensor(2.1260, grad_fn=<NllLossBackward0>)"
      ]
     },
     "execution_count": 797,
     "metadata": {},
     "output_type": "execute_result"
    }
   ],
   "source": [
    "emb = C[Xtr]  # (32, 3, 2)\n",
    "h = torch.tanh(emb.view(-1, 30) @ W1 + b1)  # (32, 100)\n",
    "logits = h @ W2 + b2  # (32, 27)\n",
    "loss = F.cross_entropy(logits, Ytr)\n",
    "loss"
   ]
  },
  {
   "cell_type": "code",
   "execution_count": 130,
   "metadata": {},
   "outputs": [
    {
     "data": {
      "text/plain": [
       "tensor(2.1669, grad_fn=<NllLossBackward0>)"
      ]
     },
     "execution_count": 130,
     "metadata": {},
     "output_type": "execute_result"
    }
   ],
   "source": [
    "emb = C[Xdev]  # (32, 3, 2)\n",
    "h = torch.tanh(emb.view(-1, 30) @ W1 + b1)  # (32, 100)\n",
    "logits = h @ W2 + b2  # (32, 27)\n",
    "loss = F.cross_entropy(logits, Ydev)  # evaluating with Xdev, Ydev\n",
    "loss  # if training loss and dev loss are similar, then we are not overfitting"
   ]
  },
  {
   "cell_type": "markdown",
   "metadata": {},
   "source": [
    "### Visualise Embeddings\n"
   ]
  },
  {
   "cell_type": "code",
   "execution_count": 710,
   "metadata": {},
   "outputs": [
    {
     "data": {
      "image/png": "[encoded data removed]",
      "text/plain": [
       "<Figure size 576x576 with 1 Axes>"
      ]
     },
     "metadata": {
      "needs_background": "light"
     },
     "output_type": "display_data"
    }
   ],
   "source": [
    "# visualize dimensions 0 and 1 of the embedding matrix C for all characters\n",
    "plt.figure(figsize=(8, 8))\n",
    "plt.scatter(C[:, 0].data, C[:, 1].data, s=200)\n",
    "for i in range(C.shape[0]):\n",
    "    plt.text(\n",
    "        C[i, 0].item(),\n",
    "        C[i, 1].item(),\n",
    "        i_to_s[i],\n",
    "        ha=\"center\",\n",
    "        va=\"center\",\n",
    "        color=\"white\",\n",
    "    )\n",
    "plt.grid(\"minor\")"
   ]
  },
  {
   "cell_type": "code",
   "execution_count": null,
   "metadata": {},
   "outputs": [],
   "source": [
    "# training split, dev/validation split, test split\n",
    "# 80%, 10%, 10%"
   ]
  },
  {
   "cell_type": "code",
   "execution_count": 805,
   "metadata": {},
   "outputs": [
    {
     "data": {
      "text/plain": [
       "torch.Size([1, 3, 10])"
      ]
     },
     "execution_count": 805,
     "metadata": {},
     "output_type": "execute_result"
    }
   ],
   "source": [
    "context = [0] * block_size\n",
    "C[torch.tensor([context])].shape"
   ]
  },
  {
   "cell_type": "markdown",
   "metadata": {},
   "source": [
    "### Sample from model\n"
   ]
  },
  {
   "cell_type": "code",
   "execution_count": 131,
   "metadata": {},
   "outputs": [
    {
     "name": "stdout",
     "output_type": "stream",
     "text": [
      "carlah.\n",
      "ambrilli.\n",
      "kimri.\n",
      "reh.\n",
      "caspley.\n",
      "kenrahnen.\n",
      "delynn.\n",
      "pareeigh.\n",
      "kasia.\n",
      "chaiivia.\n",
      "leigh.\n",
      "ham.\n",
      "pori.\n",
      "quintis.\n",
      "lilea.\n",
      "jadia.\n",
      "wanthoniearixia.\n",
      "kaeglifran.\n",
      "edde.\n",
      "iia.\n"
     ]
    }
   ],
   "source": [
    "# sample from the model\n",
    "g = torch.Generator().manual_seed(2147483647 + 10)\n",
    "\n",
    "for _ in range(20):\n",
    "    out = []\n",
    "    context = [0] * block_size  # initialize with all ...\n",
    "    while True:\n",
    "        emb = C[torch.tensor([context])]  # (1,block_size,d)\n",
    "        h = torch.tanh(emb.view(1, -1) @ W1 + b1)\n",
    "        logits = h @ W2 + b2\n",
    "        probs = F.softmax(logits, dim=1)\n",
    "        ix = torch.multinomial(probs, num_samples=1, generator=g).item()\n",
    "        context = context[1:] + [ix]\n",
    "        out.append(ix)\n",
    "        if ix == 0:\n",
    "            break\n",
    "\n",
    "    print(\"\".join(i_to_s[i] for i in out))"
   ]
  }
 ],
 "metadata": {
  "kernelspec": {
   "display_name": "Python 3",
   "language": "python",
   "name": "python3"
  },
  "language_info": {
   "codemirror_mode": {
    "name": "ipython",
    "version": 3
   },
   "file_extension": ".py",
   "mimetype": "text/x-python",
   "name": "python",
   "nbconvert_exporter": "python",
   "pygments_lexer": "ipython3",
   "version": "3.8.17"
  }
 },
 "nbformat": 4,
 "nbformat_minor": 4
}
